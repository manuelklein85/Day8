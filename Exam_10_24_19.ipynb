{
 "cells": [
  {
   "cell_type": "markdown",
   "metadata": {},
   "source": [
    "1. Linear regression is a supervised machine learning algorithm --> True"
   ]
  },
  {
   "cell_type": "markdown",
   "metadata": {},
   "source": [
    "2. Which method do we use to find the best fit line in linear regression? --> a\n",
    "    a. Least Square Error\n",
    "    b. Maximum Likelyhood\n",
    "    c. Logarithmic loss\n",
    "    d. Both a and b"
   ]
  },
  {
   "cell_type": "markdown",
   "metadata": {},
   "source": [
    "3. Which of the following is true for residuals? --> a\n",
    "    a. Lower is better\n",
    "    b. Higher is better\n",
    "    c. a or b depending on the situation\n",
    "    d. none of these"
   ]
  },
  {
   "cell_type": "markdown",
   "metadata": {},
   "source": [
    "4. What will happen when you fit degree to polynomial in linear regression?\n",
    "    a. "
   ]
  },
  {
   "cell_type": "markdown",
   "metadata": {},
   "source": [
    "5. Is it possible to design a linear regression algorithm using neuronal network? --> True (but inefficient)"
   ]
  },
  {
   "cell_type": "markdown",
   "metadata": {},
   "source": [
    "6. Which of the following evaluation metrics can be used to evaluate a model while modeling a continuous output variable? --> tbc\n",
    "    a. AUC-ROC\n",
    "    b. Accuracy\n",
    "    c. LogLOSS\n",
    "    d. Mean-Square-Error"
   ]
  },
  {
   "cell_type": "markdown",
   "metadata": {},
   "source": [
    "7. Which of the following statements about outliers is true in linear regression? --> a\n",
    "    a. Linear regression is sensitive to outliers\n",
    "    b. Not sensitive to outliers\n",
    "    c. Can't say\n",
    "    d. None of those"
   ]
  },
  {
   "cell_type": "markdown",
   "metadata": {},
   "source": [
    "8. Suppose you plotted a scatter diagram between the residuals and predicted values in linear regression and you found that there is a relationship between them. What does that mean? --> a\n",
    "    a. Since there is a relationship, model is not good\n",
    "    b. Since there is a relationship, model is good\n",
    "    c. Can't say\n",
    "    d. None of those"
   ]
  },
  {
   "cell_type": "markdown",
   "metadata": {},
   "source": [
    "9. Suppose we have N independet variables (X1, x2, x3, ...xN) and the dependet variable is y. Imagine we using least square method for fitting the best fit line by using least square error on this data. We found that correlation coefficient for one of its variable, say x1, with y = 0.95. Which of the following is true for x1?\n",
    "    --> b, positive and strong, because y = 0.95x + b\n",
    "    a. relation between x and y is week\n",
    "    b. relation between x and y is strong\n",
    "    c. relation between x and y is neutral\n",
    "    d. correlation cannot judge the relationship"
   ]
  },
  {
   "cell_type": "markdown",
   "metadata": {},
   "source": [
    "10. Suppose you have a dataset D1 and you design a linear regression model of degree 3 polynomial and we found that the training and testing error is zero, or in other terms: it perfectly fits the data. What will happen when we fit a degree four polynomial in linear regression? --> \n",
    "    a. high chances that degree four polynomial will overfit the data\n",
    "    b. high chances that degree four polynomial will underfit the data\n",
    "    c. Can't say\n",
    "    d. None of these"
   ]
  }
 ],
 "metadata": {
  "kernelspec": {
   "display_name": "Python [conda env:nf] *",
   "language": "python",
   "name": "conda-env-nf-py"
  },
  "language_info": {
   "codemirror_mode": {
    "name": "ipython",
    "version": 3
   },
   "file_extension": ".py",
   "mimetype": "text/x-python",
   "name": "python",
   "nbconvert_exporter": "python",
   "pygments_lexer": "ipython3",
   "version": "3.6.6"
  }
 },
 "nbformat": 4,
 "nbformat_minor": 2
}
